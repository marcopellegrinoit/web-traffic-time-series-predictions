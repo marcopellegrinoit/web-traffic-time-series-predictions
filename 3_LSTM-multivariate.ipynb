{
 "cells": [
  {
   "cell_type": "code",
   "execution_count": 1,
   "id": "cf04ef77-b9fe-49d9-9ce7-08dbb85e2b5e",
   "metadata": {},
   "outputs": [
    {
     "name": "stderr",
     "output_type": "stream",
     "text": [
      "2024-07-24 16:55:16.883506: I tensorflow/core/platform/cpu_feature_guard.cc:210] This TensorFlow binary is optimized to use available CPU instructions in performance-critical operations.\n",
      "To enable the following instructions: AVX2 FMA, in other operations, rebuild TensorFlow with the appropriate compiler flags.\n"
     ]
    }
   ],
   "source": [
    "import pandas as pd\n",
    "from sklearn.model_selection import train_test_split\n",
    "from sklearn.preprocessing import MinMaxScaler\n",
    "import matplotlib.pyplot as plt\n",
    "import seaborn as sns\n",
    "import numpy as np\n",
    "import re\n",
    "from tensorflow.keras.models import Sequential\n",
    "from tensorflow.keras.layers import LSTM, Dense, Dropout\n",
    "from tensorflow.keras.optimizers import Adam\n",
    "from sklearn.metrics import mean_squared_error\n",
    "from collections import Counter"
   ]
  },
  {
   "cell_type": "markdown",
   "id": "1266c4d8-75a8-4e39-b555-7ec95118e86c",
   "metadata": {},
   "source": [
    "# Read and Prepare data"
   ]
  },
  {
   "cell_type": "code",
   "execution_count": 2,
   "id": "96547943-8c0a-4d0f-9c78-bedab18cd855",
   "metadata": {},
   "outputs": [],
   "source": [
    "df = pd.read_csv('data/processed/train_1_processed.csv', index_col=None)"
   ]
  },
  {
   "cell_type": "markdown",
   "id": "fcbe3fdf-7f95-4807-ba02-744711c7060a",
   "metadata": {},
   "source": [
    "#### Select language"
   ]
  },
  {
   "cell_type": "code",
   "execution_count": 3,
   "id": "4c730b35-02c6-452e-80ac-cc09052ed39c",
   "metadata": {},
   "outputs": [
    {
     "data": {
      "text/plain": [
       "Counter({'en': 24108,\n",
       "         'ja': 20431,\n",
       "         'de': 18547,\n",
       "         'na': 17855,\n",
       "         'fr': 17802,\n",
       "         'zh': 17229,\n",
       "         'ru': 15022,\n",
       "         'es': 14069})"
      ]
     },
     "metadata": {},
     "output_type": "display_data"
    }
   ],
   "source": [
    "display(Counter(df.language))"
   ]
  },
  {
   "cell_type": "code",
   "execution_count": 4,
   "id": "13e14653-a659-4854-a4b8-69842bdaac17",
   "metadata": {},
   "outputs": [],
   "source": [
    "df = df[df['language'] == 'fr']"
   ]
  },
  {
   "cell_type": "markdown",
   "id": "60fbf4a9-2767-450e-a2c6-1e3948120d6b",
   "metadata": {},
   "source": [
    "#### Select only time series columns"
   ]
  },
  {
   "cell_type": "code",
   "execution_count": 5,
   "id": "abc096fa-9b63-454c-89e5-3bae6eae3e60",
   "metadata": {},
   "outputs": [],
   "source": [
    "# Regular expression to match date format \"YYYY-MM-DD\"\n",
    "date_pattern = re.compile(r'\\d{4}-\\d{2}-\\d{2}')\n",
    "\n",
    "# Filter columns based on the regular expression\n",
    "filtered_columns = [col for col in df.columns if date_pattern.match(col)]\n",
    "\n",
    "# Create a new DataFrame with only the filtered columns\n",
    "df = df[filtered_columns]"
   ]
  },
  {
   "cell_type": "code",
   "execution_count": 6,
   "id": "f8d6b768-f13e-4b76-b740-9473f7501cda",
   "metadata": {},
   "outputs": [
    {
     "data": {
      "text/plain": [
       "(17802, 550)"
      ]
     },
     "execution_count": 6,
     "metadata": {},
     "output_type": "execute_result"
    }
   ],
   "source": [
    "df.shape"
   ]
  },
  {
   "cell_type": "markdown",
   "id": "b55dd255-7c2c-47cd-a321-f5d9c4278b9b",
   "metadata": {},
   "source": [
    "#### Split training and test data"
   ]
  },
  {
   "cell_type": "code",
   "execution_count": 7,
   "id": "41a581c6-721d-4a2d-8a95-5ad650b83830",
   "metadata": {},
   "outputs": [],
   "source": [
    "train_data, test_data = train_test_split(df, test_size=0.2, shuffle=False)"
   ]
  },
  {
   "cell_type": "markdown",
   "id": "d3ff16e4-8e88-4cd0-9a5b-1e9a34785fca",
   "metadata": {},
   "source": [
    "#### Missing Values Imputation"
   ]
  },
  {
   "cell_type": "markdown",
   "id": "1a63a35e-fcf2-4627-b5a3-efa9fd13a583",
   "metadata": {},
   "source": [
    "Missing values are imputed using forward linear interpolation. NAN values before a certain real value will be filled with 0 and the remaining NAN values will be filled using linear interpolation."
   ]
  },
  {
   "cell_type": "code",
   "execution_count": 8,
   "id": "0f9d25d0-9d83-4fc5-a619-b9bed5fc350f",
   "metadata": {},
   "outputs": [],
   "source": [
    "train_data = train_data.interpolate(method='linear', limit_direction='forward', axis=0)\n",
    "test_data = test_data.interpolate(method='linear', limit_direction='forward', axis=0)"
   ]
  },
  {
   "cell_type": "markdown",
   "id": "c2d1b73e-e2ef-4a08-91ac-a8af5b6489e2",
   "metadata": {},
   "source": [
    "#### Normalize"
   ]
  },
  {
   "cell_type": "code",
   "execution_count": 9,
   "id": "639c6be3-21d5-453f-aab5-d0f1ba6f2202",
   "metadata": {},
   "outputs": [],
   "source": [
    "scaler = MinMaxScaler()\n",
    "scaled_train_data = scaler.fit_transform(train_data)\n",
    "scaled_test_data = scaler.transform(test_data)"
   ]
  },
  {
   "cell_type": "markdown",
   "id": "c8c44db4-b396-4019-b6d8-dd29c718c51d",
   "metadata": {},
   "source": [
    "#### Prepare data for LSTM"
   ]
  },
  {
   "cell_type": "code",
   "execution_count": 10,
   "id": "8dd69616-2a59-46c8-8834-31cb689e4f2a",
   "metadata": {},
   "outputs": [],
   "source": [
    "def create_multivariate_dataset(data, timesteps=7):\n",
    "    X, y = [], []\n",
    "    for i in range(len(data) - timesteps):\n",
    "        X.append(data[i:i + timesteps])  # Shape: (timesteps, num_pages)\n",
    "        y.append(data[i + timesteps])    # Shape: (num_pages,)\n",
    "    return np.array(X), np.array(y)"
   ]
  },
  {
   "cell_type": "code",
   "execution_count": 11,
   "id": "db7ae7a3-c277-4d4c-a354-a60093e498fd",
   "metadata": {},
   "outputs": [],
   "source": [
    "timesteps = 7\n",
    "X_train, y_train = create_multivariate_dataset(scaled_train_data, timesteps=timesteps)\n",
    "X_test, y_test = create_multivariate_dataset(scaled_test_data, timesteps=timesteps)"
   ]
  },
  {
   "cell_type": "markdown",
   "id": "8c34c3a5-51ee-43d7-9c78-2ddd5a3e27da",
   "metadata": {},
   "source": [
    "# Data Modeling"
   ]
  },
  {
   "cell_type": "markdown",
   "id": "d64b9c1e-4619-4e3d-8166-dd9105f8c7c3",
   "metadata": {},
   "source": [
    "#### Define Multivariate LSTM"
   ]
  },
  {
   "cell_type": "code",
   "execution_count": 12,
   "id": "43333b18-273c-4b21-bc7c-c92198ff301b",
   "metadata": {},
   "outputs": [
    {
     "name": "stderr",
     "output_type": "stream",
     "text": [
      "/Users/marcopellegrino/miniconda3/envs/marcoenv/lib/python3.11/site-packages/keras/src/layers/rnn/rnn.py:204: UserWarning: Do not pass an `input_shape`/`input_dim` argument to a layer. When using Sequential models, prefer using an `Input(shape)` object as the first layer in the model instead.\n",
      "  super().__init__(**kwargs)\n"
     ]
    }
   ],
   "source": [
    "model = Sequential()\n",
    "model.add(LSTM(100, activation='relu', return_sequences=True, input_shape=(timesteps, X_train.shape[2])))\n",
    "model.add(Dropout(0.2))\n",
    "model.add(LSTM(50, activation='relu'))\n",
    "model.add(Dense(X_train.shape[2]))\n",
    "model.compile(optimizer=Adam(learning_rate=0.001), loss='mse')"
   ]
  },
  {
   "cell_type": "markdown",
   "id": "10b49d42-eb70-499c-99cf-9b966f3887cf",
   "metadata": {},
   "source": [
    "#### Train model"
   ]
  },
  {
   "cell_type": "code",
   "execution_count": 13,
   "id": "3d81c644-9074-4416-a73f-7f4a238ade06",
   "metadata": {},
   "outputs": [
    {
     "name": "stdout",
     "output_type": "stream",
     "text": [
      "Epoch 1/50\n",
      "\u001b[1m401/401\u001b[0m \u001b[32m━━━━━━━━━━━━━━━━━━━━\u001b[0m\u001b[37m\u001b[0m \u001b[1m11s\u001b[0m 21ms/step - loss: 9.8116e-05 - val_loss: 3.2535e-07\n",
      "Epoch 2/50\n",
      "\u001b[1m401/401\u001b[0m \u001b[32m━━━━━━━━━━━━━━━━━━━━\u001b[0m\u001b[37m\u001b[0m \u001b[1m6s\u001b[0m 15ms/step - loss: 9.4706e-05 - val_loss: 9.9735e-07\n",
      "Epoch 3/50\n",
      "\u001b[1m401/401\u001b[0m \u001b[32m━━━━━━━━━━━━━━━━━━━━\u001b[0m\u001b[37m\u001b[0m \u001b[1m5s\u001b[0m 13ms/step - loss: 1.4463e-04 - val_loss: 3.2891e-07\n",
      "Epoch 4/50\n",
      "\u001b[1m401/401\u001b[0m \u001b[32m━━━━━━━━━━━━━━━━━━━━\u001b[0m\u001b[37m\u001b[0m \u001b[1m6s\u001b[0m 14ms/step - loss: 8.5218e-05 - val_loss: 2.9676e-07\n",
      "Epoch 5/50\n",
      "\u001b[1m401/401\u001b[0m \u001b[32m━━━━━━━━━━━━━━━━━━━━\u001b[0m\u001b[37m\u001b[0m \u001b[1m5s\u001b[0m 13ms/step - loss: 1.0687e-04 - val_loss: 3.3355e-07\n",
      "Epoch 6/50\n",
      "\u001b[1m401/401\u001b[0m \u001b[32m━━━━━━━━━━━━━━━━━━━━\u001b[0m\u001b[37m\u001b[0m \u001b[1m5s\u001b[0m 14ms/step - loss: 5.7807e-04 - val_loss: 4.2857e-07\n",
      "Epoch 7/50\n",
      "\u001b[1m401/401\u001b[0m \u001b[32m━━━━━━━━━━━━━━━━━━━━\u001b[0m\u001b[37m\u001b[0m \u001b[1m5s\u001b[0m 12ms/step - loss: 1.5325e-04 - val_loss: 3.7273e-07\n",
      "Epoch 8/50\n",
      "\u001b[1m401/401\u001b[0m \u001b[32m━━━━━━━━━━━━━━━━━━━━\u001b[0m\u001b[37m\u001b[0m \u001b[1m6s\u001b[0m 14ms/step - loss: 1.4257e-04 - val_loss: 9.9073e-07\n",
      "Epoch 9/50\n",
      "\u001b[1m401/401\u001b[0m \u001b[32m━━━━━━━━━━━━━━━━━━━━\u001b[0m\u001b[37m\u001b[0m \u001b[1m6s\u001b[0m 16ms/step - loss: 6.3231e-05 - val_loss: 1.0547e-06\n",
      "Epoch 10/50\n",
      "\u001b[1m401/401\u001b[0m \u001b[32m━━━━━━━━━━━━━━━━━━━━\u001b[0m\u001b[37m\u001b[0m \u001b[1m7s\u001b[0m 18ms/step - loss: 5.5678e-05 - val_loss: 3.2009e-07\n",
      "Epoch 11/50\n",
      "\u001b[1m401/401\u001b[0m \u001b[32m━━━━━━━━━━━━━━━━━━━━\u001b[0m\u001b[37m\u001b[0m \u001b[1m5s\u001b[0m 13ms/step - loss: 2.2653e-04 - val_loss: 5.8785e-07\n",
      "Epoch 12/50\n",
      "\u001b[1m401/401\u001b[0m \u001b[32m━━━━━━━━━━━━━━━━━━━━\u001b[0m\u001b[37m\u001b[0m \u001b[1m5s\u001b[0m 13ms/step - loss: 1.0674e-04 - val_loss: 3.6901e-07\n",
      "Epoch 13/50\n",
      "\u001b[1m401/401\u001b[0m \u001b[32m━━━━━━━━━━━━━━━━━━━━\u001b[0m\u001b[37m\u001b[0m \u001b[1m5s\u001b[0m 12ms/step - loss: 5.2163e-05 - val_loss: 3.6990e-07\n",
      "Epoch 14/50\n",
      "\u001b[1m401/401\u001b[0m \u001b[32m━━━━━━━━━━━━━━━━━━━━\u001b[0m\u001b[37m\u001b[0m \u001b[1m5s\u001b[0m 12ms/step - loss: 1.6685e-04 - val_loss: 4.2501e-07\n",
      "Epoch 15/50\n",
      "\u001b[1m401/401\u001b[0m \u001b[32m━━━━━━━━━━━━━━━━━━━━\u001b[0m\u001b[37m\u001b[0m \u001b[1m5s\u001b[0m 13ms/step - loss: 1.1541e-04 - val_loss: 3.4305e-07\n",
      "Epoch 16/50\n",
      "\u001b[1m401/401\u001b[0m \u001b[32m━━━━━━━━━━━━━━━━━━━━\u001b[0m\u001b[37m\u001b[0m \u001b[1m5s\u001b[0m 13ms/step - loss: 3.5946e-05 - val_loss: 2.1513e-06\n",
      "Epoch 17/50\n",
      "\u001b[1m401/401\u001b[0m \u001b[32m━━━━━━━━━━━━━━━━━━━━\u001b[0m\u001b[37m\u001b[0m \u001b[1m6s\u001b[0m 15ms/step - loss: 9.1139e-05 - val_loss: 5.0604e-07\n",
      "Epoch 18/50\n",
      "\u001b[1m401/401\u001b[0m \u001b[32m━━━━━━━━━━━━━━━━━━━━\u001b[0m\u001b[37m\u001b[0m \u001b[1m6s\u001b[0m 14ms/step - loss: 1.5342e-04 - val_loss: 1.4629e-06\n",
      "Epoch 19/50\n",
      "\u001b[1m401/401\u001b[0m \u001b[32m━━━━━━━━━━━━━━━━━━━━\u001b[0m\u001b[37m\u001b[0m \u001b[1m6s\u001b[0m 14ms/step - loss: 1.3111e-04 - val_loss: 3.7211e-07\n",
      "Epoch 20/50\n",
      "\u001b[1m401/401\u001b[0m \u001b[32m━━━━━━━━━━━━━━━━━━━━\u001b[0m\u001b[37m\u001b[0m \u001b[1m5s\u001b[0m 12ms/step - loss: 1.5697e-04 - val_loss: 3.2942e-07\n",
      "Epoch 21/50\n",
      "\u001b[1m401/401\u001b[0m \u001b[32m━━━━━━━━━━━━━━━━━━━━\u001b[0m\u001b[37m\u001b[0m \u001b[1m5s\u001b[0m 13ms/step - loss: 2.4556e-04 - val_loss: 3.0427e-07\n",
      "Epoch 22/50\n",
      "\u001b[1m401/401\u001b[0m \u001b[32m━━━━━━━━━━━━━━━━━━━━\u001b[0m\u001b[37m\u001b[0m \u001b[1m6s\u001b[0m 14ms/step - loss: 2.0010e-04 - val_loss: 6.2129e-07\n",
      "Epoch 23/50\n",
      "\u001b[1m401/401\u001b[0m \u001b[32m━━━━━━━━━━━━━━━━━━━━\u001b[0m\u001b[37m\u001b[0m \u001b[1m5s\u001b[0m 12ms/step - loss: 3.9912e-05 - val_loss: 4.1069e-07\n",
      "Epoch 24/50\n",
      "\u001b[1m401/401\u001b[0m \u001b[32m━━━━━━━━━━━━━━━━━━━━\u001b[0m\u001b[37m\u001b[0m \u001b[1m5s\u001b[0m 13ms/step - loss: 1.3951e-04 - val_loss: 3.3872e-07\n",
      "Epoch 25/50\n",
      "\u001b[1m401/401\u001b[0m \u001b[32m━━━━━━━━━━━━━━━━━━━━\u001b[0m\u001b[37m\u001b[0m \u001b[1m6s\u001b[0m 15ms/step - loss: 9.9090e-05 - val_loss: 7.5874e-07\n",
      "Epoch 26/50\n",
      "\u001b[1m401/401\u001b[0m \u001b[32m━━━━━━━━━━━━━━━━━━━━\u001b[0m\u001b[37m\u001b[0m \u001b[1m6s\u001b[0m 15ms/step - loss: 2.5501e-04 - val_loss: 4.6340e-07\n",
      "Epoch 27/50\n",
      "\u001b[1m401/401\u001b[0m \u001b[32m━━━━━━━━━━━━━━━━━━━━\u001b[0m\u001b[37m\u001b[0m \u001b[1m7s\u001b[0m 17ms/step - loss: 1.7283e-04 - val_loss: 2.1363e-06\n",
      "Epoch 28/50\n",
      "\u001b[1m401/401\u001b[0m \u001b[32m━━━━━━━━━━━━━━━━━━━━\u001b[0m\u001b[37m\u001b[0m \u001b[1m6s\u001b[0m 16ms/step - loss: 4.1516e-04 - val_loss: 3.5300e-07\n",
      "Epoch 29/50\n",
      "\u001b[1m401/401\u001b[0m \u001b[32m━━━━━━━━━━━━━━━━━━━━\u001b[0m\u001b[37m\u001b[0m \u001b[1m5s\u001b[0m 13ms/step - loss: 7.0143e-05 - val_loss: 3.1934e-07\n",
      "Epoch 30/50\n",
      "\u001b[1m401/401\u001b[0m \u001b[32m━━━━━━━━━━━━━━━━━━━━\u001b[0m\u001b[37m\u001b[0m \u001b[1m5s\u001b[0m 13ms/step - loss: 5.3775e-05 - val_loss: 8.9212e-07\n",
      "Epoch 31/50\n",
      "\u001b[1m401/401\u001b[0m \u001b[32m━━━━━━━━━━━━━━━━━━━━\u001b[0m\u001b[37m\u001b[0m \u001b[1m5s\u001b[0m 13ms/step - loss: 6.1286e-05 - val_loss: 5.0059e-07\n",
      "Epoch 32/50\n",
      "\u001b[1m401/401\u001b[0m \u001b[32m━━━━━━━━━━━━━━━━━━━━\u001b[0m\u001b[37m\u001b[0m \u001b[1m5s\u001b[0m 13ms/step - loss: 7.6926e-05 - val_loss: 2.9283e-07\n",
      "Epoch 33/50\n",
      "\u001b[1m401/401\u001b[0m \u001b[32m━━━━━━━━━━━━━━━━━━━━\u001b[0m\u001b[37m\u001b[0m \u001b[1m5s\u001b[0m 12ms/step - loss: 1.7803e-04 - val_loss: 4.5890e-07\n",
      "Epoch 34/50\n",
      "\u001b[1m401/401\u001b[0m \u001b[32m━━━━━━━━━━━━━━━━━━━━\u001b[0m\u001b[37m\u001b[0m \u001b[1m5s\u001b[0m 13ms/step - loss: 1.3841e-04 - val_loss: 3.9242e-07\n",
      "Epoch 35/50\n",
      "\u001b[1m401/401\u001b[0m \u001b[32m━━━━━━━━━━━━━━━━━━━━\u001b[0m\u001b[37m\u001b[0m \u001b[1m6s\u001b[0m 15ms/step - loss: 9.5146e-05 - val_loss: 8.0887e-07\n",
      "Epoch 36/50\n",
      "\u001b[1m401/401\u001b[0m \u001b[32m━━━━━━━━━━━━━━━━━━━━\u001b[0m\u001b[37m\u001b[0m \u001b[1m9s\u001b[0m 22ms/step - loss: 2.0480e-04 - val_loss: 3.0522e-07\n",
      "Epoch 37/50\n",
      "\u001b[1m401/401\u001b[0m \u001b[32m━━━━━━━━━━━━━━━━━━━━\u001b[0m\u001b[37m\u001b[0m \u001b[1m8s\u001b[0m 19ms/step - loss: 2.1411e-04 - val_loss: 3.6742e-07\n",
      "Epoch 38/50\n",
      "\u001b[1m401/401\u001b[0m \u001b[32m━━━━━━━━━━━━━━━━━━━━\u001b[0m\u001b[37m\u001b[0m \u001b[1m6s\u001b[0m 14ms/step - loss: 8.1067e-05 - val_loss: 1.7575e-06\n",
      "Epoch 39/50\n",
      "\u001b[1m401/401\u001b[0m \u001b[32m━━━━━━━━━━━━━━━━━━━━\u001b[0m\u001b[37m\u001b[0m \u001b[1m6s\u001b[0m 14ms/step - loss: 9.6568e-05 - val_loss: 4.9888e-07\n",
      "Epoch 40/50\n",
      "\u001b[1m401/401\u001b[0m \u001b[32m━━━━━━━━━━━━━━━━━━━━\u001b[0m\u001b[37m\u001b[0m \u001b[1m7s\u001b[0m 17ms/step - loss: 7.0776e-05 - val_loss: 4.2422e-07\n",
      "Epoch 41/50\n",
      "\u001b[1m401/401\u001b[0m \u001b[32m━━━━━━━━━━━━━━━━━━━━\u001b[0m\u001b[37m\u001b[0m \u001b[1m6s\u001b[0m 14ms/step - loss: 6.9792e-05 - val_loss: 3.4481e-07\n",
      "Epoch 42/50\n",
      "\u001b[1m401/401\u001b[0m \u001b[32m━━━━━━━━━━━━━━━━━━━━\u001b[0m\u001b[37m\u001b[0m \u001b[1m6s\u001b[0m 16ms/step - loss: 1.9157e-04 - val_loss: 3.0496e-07\n",
      "Epoch 43/50\n",
      "\u001b[1m401/401\u001b[0m \u001b[32m━━━━━━━━━━━━━━━━━━━━\u001b[0m\u001b[37m\u001b[0m \u001b[1m6s\u001b[0m 15ms/step - loss: 5.0332e-05 - val_loss: 4.5541e-07\n",
      "Epoch 44/50\n",
      "\u001b[1m401/401\u001b[0m \u001b[32m━━━━━━━━━━━━━━━━━━━━\u001b[0m\u001b[37m\u001b[0m \u001b[1m6s\u001b[0m 16ms/step - loss: 1.8529e-04 - val_loss: 3.1641e-07\n",
      "Epoch 45/50\n",
      "\u001b[1m401/401\u001b[0m \u001b[32m━━━━━━━━━━━━━━━━━━━━\u001b[0m\u001b[37m\u001b[0m \u001b[1m6s\u001b[0m 14ms/step - loss: 7.7045e-05 - val_loss: 2.9576e-07\n",
      "Epoch 46/50\n",
      "\u001b[1m401/401\u001b[0m \u001b[32m━━━━━━━━━━━━━━━━━━━━\u001b[0m\u001b[37m\u001b[0m \u001b[1m6s\u001b[0m 14ms/step - loss: 1.3819e-04 - val_loss: 3.2021e-07\n",
      "Epoch 47/50\n",
      "\u001b[1m401/401\u001b[0m \u001b[32m━━━━━━━━━━━━━━━━━━━━\u001b[0m\u001b[37m\u001b[0m \u001b[1m5s\u001b[0m 12ms/step - loss: 2.9235e-04 - val_loss: 5.1671e-07\n",
      "Epoch 48/50\n",
      "\u001b[1m401/401\u001b[0m \u001b[32m━━━━━━━━━━━━━━━━━━━━\u001b[0m\u001b[37m\u001b[0m \u001b[1m5s\u001b[0m 13ms/step - loss: 5.7103e-05 - val_loss: 6.9559e-07\n",
      "Epoch 49/50\n",
      "\u001b[1m401/401\u001b[0m \u001b[32m━━━━━━━━━━━━━━━━━━━━\u001b[0m\u001b[37m\u001b[0m \u001b[1m5s\u001b[0m 13ms/step - loss: 1.6291e-04 - val_loss: 3.7329e-07\n",
      "Epoch 50/50\n",
      "\u001b[1m401/401\u001b[0m \u001b[32m━━━━━━━━━━━━━━━━━━━━\u001b[0m\u001b[37m\u001b[0m \u001b[1m5s\u001b[0m 13ms/step - loss: 8.0745e-05 - val_loss: 3.0107e-06\n"
     ]
    },
    {
     "data": {
      "text/plain": [
       "<keras.src.callbacks.history.History at 0x142481550>"
      ]
     },
     "execution_count": 13,
     "metadata": {},
     "output_type": "execute_result"
    }
   ],
   "source": [
    "model.fit(X_train, y_train, epochs=50, batch_size=32, validation_split=0.1)"
   ]
  },
  {
   "cell_type": "markdown",
   "id": "db568156-b7d0-4480-84c6-7c03ee7fee59",
   "metadata": {},
   "source": [
    "# Data Evaluation"
   ]
  },
  {
   "cell_type": "code",
   "execution_count": 14,
   "id": "22932f1b-59f8-41a8-aae9-9e20d7db474c",
   "metadata": {},
   "outputs": [
    {
     "name": "stdout",
     "output_type": "stream",
     "text": [
      "\u001b[1m112/112\u001b[0m \u001b[32m━━━━━━━━━━━━━━━━━━━━\u001b[0m\u001b[37m\u001b[0m \u001b[1m1s\u001b[0m 7ms/step\n"
     ]
    }
   ],
   "source": [
    "y_pred = model.predict(X_test)"
   ]
  },
  {
   "cell_type": "code",
   "execution_count": 15,
   "id": "d19966d8-df19-452e-9e95-7fd4689c9665",
   "metadata": {},
   "outputs": [
    {
     "name": "stdout",
     "output_type": "stream",
     "text": [
      "Mean Squared Error: 6.242729922941872e-06\n"
     ]
    }
   ],
   "source": [
    "mse = mean_squared_error(y_test, y_pred)\n",
    "print(f\"Mean Squared Error: {mse}\")"
   ]
  },
  {
   "cell_type": "code",
   "execution_count": 16,
   "id": "63b76589-5e8f-4fa0-b797-aa5f6e0c5ed7",
   "metadata": {},
   "outputs": [
    {
     "data": {
      "image/png": "[encoded data removed]",
      "text/plain": [
       "<Figure size 1500x500 with 1 Axes>"
      ]
     },
     "metadata": {},
     "output_type": "display_data"
    }
   ],
   "source": [
    "# Example: Plot predictions for a specific location (e.g., first location)\n",
    "location_idx = 5\n",
    "\n",
    "plt.figure(figsize=(15, 5))\n",
    "plt.plot(y_test[:, location_idx], label='Actual')\n",
    "plt.plot(y_pred[:, location_idx], label='Predicted')\n",
    "plt.title(f'Traffic Demand Prediction for Location {location_idx}')\n",
    "plt.legend()\n",
    "plt.show()"
   ]
  }
 ],
 "metadata": {
  "kernelspec": {
   "display_name": "Python (marcoenv)",
   "language": "python",
   "name": "marcoenv"
  },
  "language_info": {
   "codemirror_mode": {
    "name": "ipython",
    "version": 3
   },
   "file_extension": ".py",
   "mimetype": "text/x-python",
   "name": "python",
   "nbconvert_exporter": "python",
   "pygments_lexer": "ipython3",
   "version": "3.11.5"
  }
 },
 "nbformat": 4,
 "nbformat_minor": 5
}
