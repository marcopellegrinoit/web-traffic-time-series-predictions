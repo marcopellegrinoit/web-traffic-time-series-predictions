{
 "cells": [
  {
   "cell_type": "code",
   "execution_count": 1,
   "id": "eeb280fc-ba99-453d-8590-3e734645f1e5",
   "metadata": {},
   "outputs": [],
   "source": [
    "import kaggle\n",
    "import zipfile\n",
    "import shutil\n",
    "import os\n",
    "from pathlib import Path"
   ]
  },
  {
   "cell_type": "code",
   "execution_count": 2,
   "id": "36e5b849-5a12-4c32-a51f-4c4edb97c1ae",
   "metadata": {},
   "outputs": [],
   "source": [
    "Path(\"../data/raw/zip\").mkdir(parents=True, exist_ok=True)"
   ]
  },
  {
   "cell_type": "markdown",
   "id": "5e12bbc7-cb71-4463-80af-c30da551cad7",
   "metadata": {},
   "source": [
    "#### Retrieve Data"
   ]
  },
  {
   "cell_type": "code",
   "execution_count": 3,
   "id": "dd37c12a-ea61-4fa9-8e50-01ca1f918d81",
   "metadata": {},
   "outputs": [
    {
     "name": "stdout",
     "output_type": "stream",
     "text": [
      "Downloading web-traffic-time-series-forecasting.zip to /Users/marcopellegrino/Documents/GitHub/web-time-series\n",
      "100%|███████████████████████████████████████▉| 583M/583M [00:15<00:00, 43.6MB/s]\n",
      "100%|████████████████████████████████████████| 583M/583M [00:15<00:00, 39.1MB/s]\n"
     ]
    }
   ],
   "source": [
    "!kaggle competitions download -c web-traffic-time-series-forecasting"
   ]
  },
  {
   "cell_type": "markdown",
   "id": "0a65950e-9d0e-46d1-84dd-c44918a50de2",
   "metadata": {},
   "source": [
    "#### Unzip Data"
   ]
  },
  {
   "cell_type": "code",
   "execution_count": 4,
   "id": "6bdbe962-5332-4c61-adfb-2387321e5ce4",
   "metadata": {},
   "outputs": [],
   "source": [
    "# Unzip all folders\n",
    "with zipfile.ZipFile('../web-traffic-time-series-forecasting.zip', 'r') as zip_ref:\n",
    "    zip_ref.extractall('../data/raw/zip')\n",
    "\n",
    "# Move main zip\n",
    "shutil.move(\"../web-traffic-time-series-forecasting.zip\", \"data/raw/zip\")\n",
    "\n",
    "# Unzip the interested datasets\n",
    "with zipfile.ZipFile('../data/raw/zip/train_1.csv.zip', 'r') as zip_ref:\n",
    "    zip_ref.extractall('../data/raw')\n",
    "\n",
    "with zipfile.ZipFile('../data/raw/zip/key_1.csv.zip', 'r') as zip_ref:\n",
    "    zip_ref.extractall('../data/raw')"
   ]
  }
 ],
 "metadata": {
  "kernelspec": {
   "display_name": "Python (marcoenv)",
   "language": "python",
   "name": "marcoenv"
  },
  "language_info": {
   "codemirror_mode": {
    "name": "ipython",
    "version": 3
   },
   "file_extension": ".py",
   "mimetype": "text/x-python",
   "name": "python",
   "nbconvert_exporter": "python",
   "pygments_lexer": "ipython3",
   "version": "3.11.5"
  }
 },
 "nbformat": 4,
 "nbformat_minor": 5
}
