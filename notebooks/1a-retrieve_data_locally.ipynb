{
 "cells": [
  {
   "cell_type": "markdown",
   "id": "8bbf454a-85ad-44b7-9218-256d9e2a4803",
   "metadata": {},
   "source": [
    "Author: Marco Pellegrino\\\n",
    "Year: 2024\n",
    "\n",
    "With this notebook, data is retrieved from the Kaggle online repository and locally extracted."
   ]
  },
  {
   "cell_type": "code",
   "execution_count": 1,
   "id": "eeb280fc-ba99-453d-8590-3e734645f1e5",
   "metadata": {},
   "outputs": [],
   "source": [
    "import kaggle\n",
    "import zipfile\n",
    "import shutil\n",
    "import os\n",
    "from pathlib import Path"
   ]
  },
  {
   "cell_type": "code",
   "execution_count": 2,
   "id": "36e5b849-5a12-4c32-a51f-4c4edb97c1ae",
   "metadata": {},
   "outputs": [],
   "source": [
    "Path(\"../data/raw/zip\").mkdir(parents=True, exist_ok=True)"
   ]
  },
  {
   "cell_type": "markdown",
   "id": "5e12bbc7-cb71-4463-80af-c30da551cad7",
   "metadata": {},
   "source": [
    "# Retrieve Data from Kaggle"
   ]
  },
  {
   "cell_type": "code",
   "execution_count": 6,
   "id": "dd37c12a-ea61-4fa9-8e50-01ca1f918d81",
   "metadata": {},
   "outputs": [
    {
     "name": "stdout",
     "output_type": "stream",
     "text": [
      "web-traffic-time-series-forecasting.zip: Skipping, found more recently modified local copy (use --force to force download)\n"
     ]
    }
   ],
   "source": [
    "!kaggle competitions download -c web-traffic-time-series-forecasting"
   ]
  },
  {
   "cell_type": "markdown",
   "id": "0a65950e-9d0e-46d1-84dd-c44918a50de2",
   "metadata": {},
   "source": [
    "# Unzip Data"
   ]
  },
  {
   "cell_type": "code",
   "execution_count": 11,
   "id": "6bdbe962-5332-4c61-adfb-2387321e5ce4",
   "metadata": {},
   "outputs": [],
   "source": [
    "# Unzip all folders\n",
    "with zipfile.ZipFile('web-traffic-time-series-forecasting.zip', 'r') as zip_ref:\n",
    "    zip_ref.extractall('../data/raw/zip')\n",
    "\n",
    "# Move main zip\n",
    "shutil.move(\"web-traffic-time-series-forecasting.zip\", \"../data/raw/zip\")\n",
    "\n",
    "# Unzip the interested dataset\n",
    "with zipfile.ZipFile('../data/raw/zip/train_1.csv.zip', 'r') as zip_ref:\n",
    "    zip_ref.extractall('../data/raw')"
   ]
  }
 ],
 "metadata": {
  "kernelspec": {
   "display_name": "Python (marcoenv)",
   "language": "python",
   "name": "marcoenv"
  },
  "language_info": {
   "codemirror_mode": {
    "name": "ipython",
    "version": 3
   },
   "file_extension": ".py",
   "mimetype": "text/x-python",
   "name": "python",
   "nbconvert_exporter": "python",
   "pygments_lexer": "ipython3",
   "version": "3.11.5"
  }
 },
 "nbformat": 4,
 "nbformat_minor": 5
}
