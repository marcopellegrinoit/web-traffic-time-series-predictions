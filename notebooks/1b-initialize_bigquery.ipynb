{
 "cells": [
  {
   "cell_type": "markdown",
   "id": "1dd2b78f-6b49-41bd-a050-8ee35d9aebd0",
   "metadata": {},
   "source": [
    "Author: Marco Pellegrino\\\n",
    "Year: 2024\n",
    "\n",
    "With this notebook, data is first formatted in a database-friendly format (date, page, traffic) and then inserted into a BigQuery table."
   ]
  },
  {
   "cell_type": "code",
   "execution_count": 1,
   "id": "b5f2bb0c-2b94-4189-bcb2-eeec6440fd42",
   "metadata": {},
   "outputs": [],
   "source": [
    "import pandas as pd\n",
    "from google.cloud import bigquery"
   ]
  },
  {
   "cell_type": "markdown",
   "id": "323e94fd-eb85-4750-9011-087f2fe927a6",
   "metadata": {},
   "source": [
    "# Load Data"
   ]
  },
  {
   "cell_type": "code",
   "execution_count": 2,
   "id": "50a77664-276f-46ae-80c0-717ac56b481e",
   "metadata": {},
   "outputs": [],
   "source": [
    "# Load the dataset\n",
    "df = pd.read_csv('../data/raw/train_1.csv')"
   ]
  },
  {
   "cell_type": "code",
   "execution_count": 8,
   "id": "f44a9737-fdd2-4be4-bfa2-56c66fbb8f9e",
   "metadata": {},
   "outputs": [
    {
     "data": {
      "text/plain": [
       "Index(['page', '2015-07-01', '2015-07-02', '2015-07-03', '2015-07-04',\n",
       "       '2015-07-05', '2015-07-06', '2015-07-07', '2015-07-08', '2015-07-09',\n",
       "       ...\n",
       "       '2016-12-22', '2016-12-23', '2016-12-24', '2016-12-25', '2016-12-26',\n",
       "       '2016-12-27', '2016-12-28', '2016-12-29', '2016-12-30', '2016-12-31'],\n",
       "      dtype='object', length=551)"
      ]
     },
     "execution_count": 8,
     "metadata": {},
     "output_type": "execute_result"
    }
   ],
   "source": [
    "df.columns"
   ]
  },
  {
   "cell_type": "code",
   "execution_count": 23,
   "id": "4574dbbc-e6e1-4ddf-ae5f-4795cdab891d",
   "metadata": {},
   "outputs": [
    {
     "data": {
      "text/html": [
       "<div>\n",
       "<style scoped>\n",
       "    .dataframe tbody tr th:only-of-type {\n",
       "        vertical-align: middle;\n",
       "    }\n",
       "\n",
       "    .dataframe tbody tr th {\n",
       "        vertical-align: top;\n",
       "    }\n",
       "\n",
       "    .dataframe thead th {\n",
       "        text-align: right;\n",
       "    }\n",
       "</style>\n",
       "<table border=\"1\" class=\"dataframe\">\n",
       "  <thead>\n",
       "    <tr style=\"text-align: right;\">\n",
       "      <th></th>\n",
       "      <th>page</th>\n",
       "      <th>2015-07-01</th>\n",
       "      <th>2015-07-02</th>\n",
       "      <th>2015-07-03</th>\n",
       "      <th>2015-07-04</th>\n",
       "      <th>2015-07-05</th>\n",
       "      <th>2015-07-06</th>\n",
       "      <th>2015-07-07</th>\n",
       "      <th>2015-07-08</th>\n",
       "      <th>2015-07-09</th>\n",
       "      <th>...</th>\n",
       "      <th>2016-12-22</th>\n",
       "      <th>2016-12-23</th>\n",
       "      <th>2016-12-24</th>\n",
       "      <th>2016-12-25</th>\n",
       "      <th>2016-12-26</th>\n",
       "      <th>2016-12-27</th>\n",
       "      <th>2016-12-28</th>\n",
       "      <th>2016-12-29</th>\n",
       "      <th>2016-12-30</th>\n",
       "      <th>2016-12-31</th>\n",
       "    </tr>\n",
       "  </thead>\n",
       "  <tbody>\n",
       "    <tr>\n",
       "      <th>0</th>\n",
       "      <td>2NE1_zh.wikipedia.org_all-access_spider</td>\n",
       "      <td>18.0</td>\n",
       "      <td>11.0</td>\n",
       "      <td>5.0</td>\n",
       "      <td>13.0</td>\n",
       "      <td>14.0</td>\n",
       "      <td>9.0</td>\n",
       "      <td>9.0</td>\n",
       "      <td>22.0</td>\n",
       "      <td>26.0</td>\n",
       "      <td>...</td>\n",
       "      <td>32.0</td>\n",
       "      <td>63.0</td>\n",
       "      <td>15.0</td>\n",
       "      <td>26.0</td>\n",
       "      <td>14.0</td>\n",
       "      <td>20.0</td>\n",
       "      <td>22.0</td>\n",
       "      <td>19.0</td>\n",
       "      <td>18.0</td>\n",
       "      <td>20.0</td>\n",
       "    </tr>\n",
       "    <tr>\n",
       "      <th>1</th>\n",
       "      <td>2PM_zh.wikipedia.org_all-access_spider</td>\n",
       "      <td>11.0</td>\n",
       "      <td>14.0</td>\n",
       "      <td>15.0</td>\n",
       "      <td>18.0</td>\n",
       "      <td>11.0</td>\n",
       "      <td>13.0</td>\n",
       "      <td>22.0</td>\n",
       "      <td>11.0</td>\n",
       "      <td>10.0</td>\n",
       "      <td>...</td>\n",
       "      <td>17.0</td>\n",
       "      <td>42.0</td>\n",
       "      <td>28.0</td>\n",
       "      <td>15.0</td>\n",
       "      <td>9.0</td>\n",
       "      <td>30.0</td>\n",
       "      <td>52.0</td>\n",
       "      <td>45.0</td>\n",
       "      <td>26.0</td>\n",
       "      <td>20.0</td>\n",
       "    </tr>\n",
       "    <tr>\n",
       "      <th>2</th>\n",
       "      <td>3C_zh.wikipedia.org_all-access_spider</td>\n",
       "      <td>1.0</td>\n",
       "      <td>0.0</td>\n",
       "      <td>1.0</td>\n",
       "      <td>1.0</td>\n",
       "      <td>0.0</td>\n",
       "      <td>4.0</td>\n",
       "      <td>0.0</td>\n",
       "      <td>3.0</td>\n",
       "      <td>4.0</td>\n",
       "      <td>...</td>\n",
       "      <td>3.0</td>\n",
       "      <td>1.0</td>\n",
       "      <td>1.0</td>\n",
       "      <td>7.0</td>\n",
       "      <td>4.0</td>\n",
       "      <td>4.0</td>\n",
       "      <td>6.0</td>\n",
       "      <td>3.0</td>\n",
       "      <td>4.0</td>\n",
       "      <td>17.0</td>\n",
       "    </tr>\n",
       "  </tbody>\n",
       "</table>\n",
       "<p>3 rows × 551 columns</p>\n",
       "</div>"
      ],
      "text/plain": [
       "                                      page  2015-07-01  2015-07-02  \\\n",
       "0  2NE1_zh.wikipedia.org_all-access_spider        18.0        11.0   \n",
       "1   2PM_zh.wikipedia.org_all-access_spider        11.0        14.0   \n",
       "2    3C_zh.wikipedia.org_all-access_spider         1.0         0.0   \n",
       "\n",
       "   2015-07-03  2015-07-04  2015-07-05  2015-07-06  2015-07-07  2015-07-08  \\\n",
       "0         5.0        13.0        14.0         9.0         9.0        22.0   \n",
       "1        15.0        18.0        11.0        13.0        22.0        11.0   \n",
       "2         1.0         1.0         0.0         4.0         0.0         3.0   \n",
       "\n",
       "   2015-07-09  ...  2016-12-22  2016-12-23  2016-12-24  2016-12-25  \\\n",
       "0        26.0  ...        32.0        63.0        15.0        26.0   \n",
       "1        10.0  ...        17.0        42.0        28.0        15.0   \n",
       "2         4.0  ...         3.0         1.0         1.0         7.0   \n",
       "\n",
       "   2016-12-26  2016-12-27  2016-12-28  2016-12-29  2016-12-30  2016-12-31  \n",
       "0        14.0        20.0        22.0        19.0        18.0        20.0  \n",
       "1         9.0        30.0        52.0        45.0        26.0        20.0  \n",
       "2         4.0         4.0         6.0         3.0         4.0        17.0  \n",
       "\n",
       "[3 rows x 551 columns]"
      ]
     },
     "execution_count": 23,
     "metadata": {},
     "output_type": "execute_result"
    }
   ],
   "source": [
    "df.head(3)"
   ]
  },
  {
   "cell_type": "markdown",
   "id": "9090e0a2-6a56-4316-b612-71e7c3d4b0b4",
   "metadata": {},
   "source": [
    "# Process Data"
   ]
  },
  {
   "cell_type": "markdown",
   "id": "83bed7c1-abe3-4a56-95b8-2d9825efcad2",
   "metadata": {},
   "source": [
    "Make column names lowercase"
   ]
  },
  {
   "cell_type": "code",
   "execution_count": null,
   "id": "946c2382-61fb-44bd-a34a-4231471b3230",
   "metadata": {},
   "outputs": [],
   "source": [
    "df.columns = map(str.lower, df.columns) # make column names lowercase"
   ]
  },
  {
   "cell_type": "markdown",
   "id": "7dceb97f-3988-45a8-9bc5-b85c40234296",
   "metadata": {},
   "source": [
    "Transform the data such that each row is an observation and each column is a variable"
   ]
  },
  {
   "cell_type": "code",
   "execution_count": null,
   "id": "8d712a53-9fce-49a8-9e7b-76f68823991d",
   "metadata": {},
   "outputs": [],
   "source": [
    "# Melt the DataFrame to a long format\n",
    "df = df.melt(id_vars=['page'], var_name='date', value_name='traffic')"
   ]
  },
  {
   "cell_type": "code",
   "execution_count": null,
   "id": "fe0cb872-0090-4d34-b115-5c517152f0d7",
   "metadata": {},
   "outputs": [],
   "source": [
    "df['date'] = pd.to_datetime(df['date'])"
   ]
  },
  {
   "cell_type": "markdown",
   "id": "652599bd-a28e-453a-9a7b-364c7725bc95",
   "metadata": {},
   "source": [
    "# BigQuery"
   ]
  },
  {
   "cell_type": "markdown",
   "id": "adc9b9aa-8a7f-45ab-8ac6-8e3c5a5a8db8",
   "metadata": {},
   "source": [
    "Connect to BigQuery"
   ]
  },
  {
   "cell_type": "code",
   "execution_count": 14,
   "id": "28aee227-82a4-4310-a7ad-31b564b296d0",
   "metadata": {},
   "outputs": [],
   "source": [
    "# Initialize a BigQuery client\n",
    "client = bigquery.Client(project=\"web-traffic-time-series\",)"
   ]
  },
  {
   "cell_type": "code",
   "execution_count": 18,
   "id": "8df090f2-ee89-403a-9681-1501886bebb5",
   "metadata": {},
   "outputs": [],
   "source": [
    "# Define the BigQuery dataset and table name\n",
    "dataset_id = 'web_traffic_dataset'\n",
    "table_id = 'web_traffic_tb'\n",
    "table_ref = client.dataset(dataset_id).table(table_id)"
   ]
  },
  {
   "cell_type": "code",
   "execution_count": 27,
   "id": "dc97965e-bdfb-45c7-9320-d2af512d2b06",
   "metadata": {},
   "outputs": [],
   "source": [
    "# Define the schema\n",
    "schema = [\n",
    "    bigquery.SchemaField(\"page\", \"STRING\", mode=\"REQUIRED\"),\n",
    "    bigquery.SchemaField(\"date\", \"DATE\", mode=\"REQUIRED\"),\n",
    "    bigquery.SchemaField(\"traffic\", \"INTEGER\", mode=\"NULLABLE\"),\n",
    "]\n",
    "\n",
    "# Create the table if it does not exist\n",
    "table = bigquery.Table(table_ref, schema=schema)\n",
    "table = client.create_table(table, exists_ok=True)"
   ]
  },
  {
   "cell_type": "code",
   "execution_count": 28,
   "id": "ccecc506-3ac1-43c6-8ff1-dfc6cd393986",
   "metadata": {},
   "outputs": [
    {
     "name": "stdout",
     "output_type": "stream",
     "text": [
      "Loaded 79784650 rows into web_traffic_dataset:web_traffic_tb.\n"
     ]
    }
   ],
   "source": [
    "# Load the DataFrame into BigQuery\n",
    "job = client.load_table_from_dataframe(melted_df, table_ref)\n",
    "\n",
    "# Wait for the load job to complete\n",
    "job.result()\n",
    "\n",
    "print(f\"Loaded {job.output_rows} rows into {dataset_id}:{table_id}.\")"
   ]
  }
 ],
 "metadata": {
  "kernelspec": {
   "display_name": "Python (marcoenv)",
   "language": "python",
   "name": "marcoenv"
  },
  "language_info": {
   "codemirror_mode": {
    "name": "ipython",
    "version": 3
   },
   "file_extension": ".py",
   "mimetype": "text/x-python",
   "name": "python",
   "nbconvert_exporter": "python",
   "pygments_lexer": "ipython3",
   "version": "3.11.5"
  }
 },
 "nbformat": 4,
 "nbformat_minor": 5
}
