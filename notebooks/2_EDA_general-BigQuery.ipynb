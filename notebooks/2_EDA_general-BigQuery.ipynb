{
 "cells": [
  {
   "cell_type": "markdown",
   "id": "d15f7214-cbdd-4f49-b71c-59c9e98e537c",
   "metadata": {},
   "source": [
    "## First Inspection"
   ]
  },
  {
   "cell_type": "markdown",
   "id": "16119445-0955-4235-bf73-eaaa490bfb5c",
   "metadata": {},
   "source": [
    "# Language Analysis"
   ]
  },
  {
   "cell_type": "code",
   "execution_count": null,
   "id": "d7ccf5e3-4d1b-4d2d-a7de-25e10a71eefc",
   "metadata": {},
   "outputs": [],
   "source": [
    "SELECT \n",
    "    date,\n",
    "    language,\n",
    "    traffic\n",
    "FROM (\n",
    "    SELECT \n",
    "        date,\n",
    "        traffic,\n",
    "        page,\n",
    "        CASE\n",
    "          WHEN REGEXP_CONTAINS(page, r'[a-z][a-z].wikipedia.org') THEN\n",
    "            SUBSTR(REGEXP_EXTRACT(page, r'(.{2}).wikipedia.org'), 1, 2)\n",
    "          ELSE\n",
    "            'na'\n",
    "        END AS language\n",
    "    FROM \n",
    "        `web_traffic_dataset.web_traffic_tb`\n",
    ")"
   ]
  },
  {
   "cell_type": "markdown",
   "id": "a54074ed-910a-47e4-b656-392b42d64bd3",
   "metadata": {},
   "source": [
    "Data visualization in Looker Studio:"
   ]
  },
  {
   "cell_type": "markdown",
   "id": "18ab0306-4bf1-42c9-b154-5ec8e5fee9e6",
   "metadata": {},
   "source": [
    "![Plot language analysis](../plots_bigquery/plot_language_analysis.png)"
   ]
  },
  {
   "cell_type": "markdown",
   "id": "c2cb24b1-ee41-4f87-853c-6a115255d4dc",
   "metadata": {},
   "source": [
    "Insights:\n",
    "- Pages in English\n",
    "- English and Russian show very large spikes around August 2016\n",
    "  - Maybe due to the Summer Olympics and the election in the US\n",
    "- Spanish has a periodic cycle "
   ]
  },
  {
   "cell_type": "markdown",
   "id": "5e929ee9-2bb8-465a-b3d1-b3d7e786e195",
   "metadata": {},
   "source": [
    "# Weekdays - Weekend Analysis"
   ]
  },
  {
   "cell_type": "code",
   "execution_count": null,
   "id": "b111f97c-c071-4e17-9c73-af597abf8682",
   "metadata": {},
   "outputs": [],
   "source": [
    "# Extract day of the week\n",
    "df_melted['day_of_week'] = df_melted['date'].dt.day_name()\n",
    "\n",
    "# Calculate the average and standard deviation of views for each day of the week\n",
    "pivot_table_mean = df_melted.pivot_table(values='views', index='day_of_week', aggfunc='mean')\n",
    "\n",
    "# Reindex to ensure days are in the correct order\n",
    "days_of_week = ['Monday', 'Tuesday', 'Wednesday', 'Thursday', 'Friday', 'Saturday', 'Sunday']\n",
    "pivot_table_mean = pivot_table_mean.reindex(days_of_week)"
   ]
  },
  {
   "cell_type": "code",
   "execution_count": null,
   "id": "cc7e5b09-d8a1-4d4c-9202-6896b9c5ad97",
   "metadata": {},
   "outputs": [],
   "source": [
    "# Plot the average views with standard deviation as error bars\n",
    "plt.figure(figsize=(10, 6))\n",
    "plt.plot(pivot_table_mean.index, pivot_table_mean['views'], color='skyblue')\n",
    "plt.xlabel('Day of the Week')\n",
    "plt.ylabel('Average Views')\n",
    "plt.title('Average Views for Each Day of the Week')\n",
    "plt.xticks(rotation=45)\n",
    "plt.grid(axis='y')\n",
    "\n",
    "# Show the plot\n",
    "plt.show()"
   ]
  },
  {
   "cell_type": "markdown",
   "id": "6ecceab0-ccbb-4cb4-9dd4-4786c11f63ac",
   "metadata": {},
   "source": [
    "Data visualization in Looker Studio:"
   ]
  },
  {
   "cell_type": "code",
   "execution_count": null,
   "id": "6c656b6f-5828-4f7b-a082-1e30c7961dc9",
   "metadata": {},
   "outputs": [],
   "source": [
    "![Weekday analysis](../plots_bigquery/plot_weekday_analysis.png)"
   ]
  },
  {
   "cell_type": "markdown",
   "id": "d95f272d-3f93-48dc-b856-fa7816eace53",
   "metadata": {},
   "source": [
    "Insights:\n",
    "- More views on Monday and Sunday"
   ]
  },
  {
   "cell_type": "markdown",
   "id": "1844f5d7-65e1-46d4-8ec7-0955c962cd7d",
   "metadata": {},
   "source": [
    "# Months Analysis"
   ]
  },
  {
   "cell_type": "code",
   "execution_count": null,
   "id": "29354117-b978-463b-863a-f70a993e4cba",
   "metadata": {},
   "outputs": [],
   "source": [
    "df_melted['month'] = df_melted['date'].dt.month_name()\n",
    "\n",
    "# Use pivot_table to calculate the average and standard deviation of views for each month\n",
    "pivot_table = df_melted.pivot_table(values='views', index='month', aggfunc='mean')\n",
    "\n",
    "# Define the correct order of months\n",
    "months_order = ['January', 'February', 'March', 'April', 'May', 'June', 'July', 'August', 'September', 'October', 'November', 'December']\n",
    "\n",
    "# Reindex to ensure months are in the correct order\n",
    "pivot_table = pivot_table.reindex(months_order)"
   ]
  },
  {
   "cell_type": "code",
   "execution_count": null,
   "id": "52f10719-6651-402e-88bb-7b42bf457dab",
   "metadata": {},
   "outputs": [],
   "source": [
    "plt.figure(figsize=(12, 6))\n",
    "plt.plot(pivot_table.index, pivot_table['views'], color='skyblue')\n",
    "plt.xlabel('Month')\n",
    "plt.ylabel('Average Views')\n",
    "plt.title('Average Views per Month')\n",
    "plt.xticks(rotation=45)\n",
    "plt.grid(axis='y')"
   ]
  },
  {
   "cell_type": "markdown",
   "id": "144be7d2-843c-4a9e-80e5-f6931a8b1647",
   "metadata": {},
   "source": [
    "Insights:\n",
    "- Less during the warmer months, but peak in August due to elections and sports"
   ]
  },
  {
   "cell_type": "code",
   "execution_count": null,
   "id": "83217e62-abaa-49e1-a8fe-70fcca703a72",
   "metadata": {},
   "outputs": [],
   "source": [
    "# Save\n",
    "Path(\"../data/processed\").mkdir(parents=True, exist_ok=True)\n",
    "df.to_csv('../data/processed/train_1_processed.csv', index=False)"
   ]
  }
 ],
 "metadata": {
  "kernelspec": {
   "display_name": "Python (marcoenv)",
   "language": "python",
   "name": "marcoenv"
  },
  "language_info": {
   "codemirror_mode": {
    "name": "ipython",
    "version": 3
   },
   "file_extension": ".py",
   "mimetype": "text/x-python",
   "name": "python",
   "nbconvert_exporter": "python",
   "pygments_lexer": "ipython3",
   "version": "3.11.5"
  }
 },
 "nbformat": 4,
 "nbformat_minor": 5
}
