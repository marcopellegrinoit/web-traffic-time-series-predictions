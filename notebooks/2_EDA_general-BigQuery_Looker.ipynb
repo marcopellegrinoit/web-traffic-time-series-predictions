{
 "cells": [
  {
   "cell_type": "markdown",
   "id": "9422ca37-7210-46a0-95d4-5a508027976d",
   "metadata": {},
   "source": [
    "Author: Marco Pellegrino\\\n",
    "Year: 2024\n",
    "\n",
    "With these SQL queries, the page language and days of the week impact are analyzed in BigQuery and Looker Studio."
   ]
  },
  {
   "cell_type": "markdown",
   "id": "16119445-0955-4235-bf73-eaaa490bfb5c",
   "metadata": {},
   "source": [
    "# Language Analysis"
   ]
  },
  {
   "cell_type": "code",
   "execution_count": null,
   "id": "d7ccf5e3-4d1b-4d2d-a7de-25e10a71eefc",
   "metadata": {},
   "outputs": [],
   "source": [
    "CREATE OR REPLACE TABLE `web-traffic-time-series.web_traffic_dataset.web_traffic_language_analysis` AS (\n",
    "  SELECT \n",
    "    date,\n",
    "    language,\n",
    "    total_traffic,\n",
    "    avg_traffic,\n",
    "    n_pages\n",
    "  FROM (\n",
    "      SELECT\n",
    "          SUM(traffic) AS total_traffic,\n",
    "          AVG(traffic) AS avg_traffic,\n",
    "          COUNT(*) AS n_pages,\n",
    "          date,\n",
    "          CASE\n",
    "            WHEN REGEXP_CONTAINS(page, r'[a-z][a-z].wikipedia.org') THEN\n",
    "              SUBSTR(REGEXP_EXTRACT(page, r'(.{2}).wikipedia.org'), 1, 2)\n",
    "            ELSE\n",
    "              'na'\n",
    "          END AS language\n",
    "      FROM \n",
    "          `web_traffic_dataset.web_traffic_tb`\n",
    "      GROUP BY \n",
    "        date,\n",
    "        language\n",
    "  )\n",
    ")"
   ]
  },
  {
   "cell_type": "markdown",
   "id": "a54074ed-910a-47e4-b656-392b42d64bd3",
   "metadata": {},
   "source": [
    "Data visualization in Looker Studio:"
   ]
  },
  {
   "cell_type": "markdown",
   "id": "18ab0306-4bf1-42c9-b154-5ec8e5fee9e6",
   "metadata": {},
   "source": [
    "![Plot language analysis](../plots_looker/plot_language_analysis.png)"
   ]
  },
  {
   "cell_type": "markdown",
   "id": "c2cb24b1-ee41-4f87-853c-6a115255d4dc",
   "metadata": {},
   "source": [
    "Insights:\n",
    "- Traffic of English-based pages is considerably larger than in other languages\n",
    "- English and Russian demand showed very large spikes around August 2016\n",
    "  - Maybe due to the Summer Olympics and the election in the US"
   ]
  },
  {
   "cell_type": "markdown",
   "id": "5e929ee9-2bb8-465a-b3d1-b3d7e786e195",
   "metadata": {},
   "source": [
    "# Weekday Analysis"
   ]
  },
  {
   "cell_type": "code",
   "execution_count": null,
   "id": "c7d20051-7688-4c6e-bac6-deeaea3812eb",
   "metadata": {},
   "outputs": [],
   "source": [
    "CREATE OR REPLACE TABLE `web-traffic-time-series.web_traffic_dataset.web_traffic_weekday_analysis` AS\n",
    "(\n",
    "  SELECT\n",
    "    FORMAT_DATE('%A', date) AS day_of_week,\n",
    "    SUM(traffic) AS total_traffic,\n",
    "    AVG(traffic) AS avg_traffic,\n",
    "    CASE FORMAT_DATE('%A', date)\n",
    "      WHEN 'Monday' THEN 1\n",
    "      WHEN 'Tuesday' THEN 2\n",
    "      WHEN 'Wednesday' THEN 3\n",
    "      WHEN 'Thursday' THEN 4\n",
    "      WHEN 'Friday' THEN 5\n",
    "      WHEN 'Saturday' THEN 6\n",
    "      WHEN 'Sunday' THEN 7\n",
    "    END AS day_number\n",
    "  FROM `web-traffic-time-series.web_traffic_dataset.web_traffic_tb`\n",
    "  GROUP BY\n",
    "    day_of_week, day_number\n",
    "  ORDER BY\n",
    "    day_number\n",
    ");"
   ]
  },
  {
   "cell_type": "markdown",
   "id": "6ecceab0-ccbb-4cb4-9dd4-4786c11f63ac",
   "metadata": {},
   "source": [
    "Data visualization in Looker Studio:"
   ]
  },
  {
   "cell_type": "markdown",
   "id": "6a427c42-b8ae-4029-8abb-2814c0db8bd3",
   "metadata": {},
   "source": [
    "![Weekday analysis](../plots_looker/plot_weekday_analysis.png)"
   ]
  },
  {
   "cell_type": "markdown",
   "id": "d95f272d-3f93-48dc-b856-fa7816eace53",
   "metadata": {},
   "source": [
    "Insights:\n",
    "- More views on Monday and Sunday"
   ]
  },
  {
   "cell_type": "markdown",
   "id": "1844f5d7-65e1-46d4-8ec7-0955c962cd7d",
   "metadata": {},
   "source": [
    "# Months Analysis"
   ]
  },
  {
   "cell_type": "code",
   "execution_count": null,
   "id": "29354117-b978-463b-863a-f70a993e4cba",
   "metadata": {},
   "outputs": [],
   "source": [
    "CREATE OR REPLACE TABLE `web-traffic-time-series.web_traffic_dataset.web_traffic_monthly_analysis` AS\n",
    "(\n",
    "  SELECT\n",
    "    EXTRACT(MONTH FROM date) AS month_number,\n",
    "    FORMAT_TIMESTAMP('%B', TIMESTAMP(date)) AS month_name,\n",
    "    SUM(traffic) AS total_traffic,\n",
    "    AVG(traffic) AS avg_traffic\n",
    "  FROM `web-traffic-time-series.web_traffic_dataset.web_traffic_tb`\n",
    "  GROUP BY\n",
    "    month_number,\n",
    "    month_name\n",
    "  ORDER BY\n",
    "    month_number\n",
    ");"
   ]
  },
  {
   "cell_type": "markdown",
   "id": "f8846f32-f159-40f2-89d6-162057db2824",
   "metadata": {},
   "source": [
    "Data visualization in Looker Studio:"
   ]
  },
  {
   "cell_type": "markdown",
   "id": "444e0396-c695-4501-9217-613455782a0a",
   "metadata": {},
   "source": [
    "![Weekday analysis](../plots_looker/plot_monthly_analysis.png)"
   ]
  },
  {
   "cell_type": "markdown",
   "id": "144be7d2-843c-4a9e-80e5-f6931a8b1647",
   "metadata": {},
   "source": [
    "Insights:\n",
    "- Less during the warmer months, but peak in August maybe due to elections and sports"
   ]
  }
 ],
 "metadata": {
  "kernelspec": {
   "display_name": "Python (marcoenv)",
   "language": "python",
   "name": "marcoenv"
  },
  "language_info": {
   "codemirror_mode": {
    "name": "ipython",
    "version": 3
   },
   "file_extension": ".py",
   "mimetype": "text/x-python",
   "name": "python",
   "nbconvert_exporter": "python",
   "pygments_lexer": "ipython3",
   "version": "3.11.5"
  }
 },
 "nbformat": 4,
 "nbformat_minor": 5
}
