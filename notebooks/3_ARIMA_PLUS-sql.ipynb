{
 "cells": [
  {
   "cell_type": "markdown",
   "id": "849e0153-6d17-4bb9-bb4d-f49b9ef64c58",
   "metadata": {},
   "source": [
    "# BigQuery ARIMA PLUS Forecasting"
   ]
  },
  {
   "cell_type": "markdown",
   "id": "d94399d3-7823-4953-a64f-b7f49bba45a8",
   "metadata": {},
   "source": [
    "Author: Marco Pellegrino\n",
    "Year: 2024"
   ]
  },
  {
   "cell_type": "markdown",
   "id": "d7ab9836-ff06-4270-82c7-0896d572215b",
   "metadata": {},
   "source": [
    "**Description**\\\n",
    "The following SQL queries train an ARIMA+ model on BigQuery to forecast the last 30 days of a page time series."
   ]
  },
  {
   "cell_type": "markdown",
   "id": "ad215cdf-c4a0-46c2-8791-253e928a8350",
   "metadata": {},
   "source": [
    "### Split Time Series in Training and Test set"
   ]
  },
  {
   "cell_type": "code",
   "execution_count": null,
   "id": "fcfe76e6-b3ed-4a3c-a151-fa67f734d358",
   "metadata": {},
   "outputs": [],
   "source": [
    "-- Create a temporary table to store the last 30 dates\n",
    "CREATE OR REPLACE TABLE web-traffic-time-series.web_traffic_dataset.temp_last_30_dates AS (\n",
    "  SELECT DISTINCT date\n",
    "  FROM `web-traffic-time-series.web_traffic_dataset.web_traffic_tb`\n",
    "  ORDER BY date DESC\n",
    "  LIMIT 30\n",
    ");\n",
    "\n",
    "-- Create the training set\n",
    "CREATE OR REPLACE TABLE web-traffic-time-series.web_traffic_dataset.web_traffic_training_tb AS (\n",
    "  SELECT\n",
    "    date,\n",
    "    page,\n",
    "    traffic\n",
    "  FROM `web-traffic-time-series.web_traffic_dataset.web_traffic_tb`\n",
    "  WHERE\n",
    "    AND date NOT IN (SELECT date FROM web-traffic-time-series.web_traffic_dataset.temp_last_30_dates)\n",
    ");\n",
    "\n",
    "-- Create the test set\n",
    "CREATE OR REPLACE TABLE web-traffic-time-series.web_traffic_dataset.web_traffic_test_tb AS (\n",
    "  SELECT\n",
    "    date,\n",
    "    page,\n",
    "    traffic\n",
    "  FROM `web-traffic-time-series.web_traffic_dataset.web_traffic_tb`\n",
    "  WHERE\n",
    "    AND date IN (SELECT date FROM web-traffic-time-series.web_traffic_dataset.temp_last_30_dates)\n",
    ");\n",
    "\n",
    "-- Drop the temporary table if no longer needed\n",
    "DROP TABLE web-traffic-time-series.web_traffic_dataset.temp_last_30_dates;"
   ]
  },
  {
   "cell_type": "markdown",
   "id": "3af6bf1f-7a6b-432a-8de9-95a49cbeff88",
   "metadata": {},
   "source": [
    "### Train ARIMA PLUS Model on Training set"
   ]
  },
  {
   "cell_type": "code",
   "execution_count": null,
   "id": "91b43728-749a-40ab-90a7-1f3b851b0cab",
   "metadata": {},
   "outputs": [],
   "source": [
    "CREATE OR REPLACE MODEL `web-traffic-time-series.web_traffic_dataset.web_traffic_arima_model`\n",
    "OPTIONS\n",
    "  (model_type = 'ARIMA_PLUS',\n",
    "  time_series_timestamp_col = 'date',\n",
    "  time_series_data_col = 'traffic',\n",
    "  auto_arima = TRUE, -- auto hyperparameter tuning of p, d, q\n",
    "  horizon = 30\n",
    "  ) AS (SELECT\n",
    "          date,\n",
    "          traffic\n",
    "        FROM `web-traffic-time-series.web_traffic_dataset.web_traffic_training_tb`\n",
    "        )"
   ]
  },
  {
   "cell_type": "markdown",
   "id": "86c07402-c92d-4d09-951b-c35d9641c513",
   "metadata": {},
   "source": [
    "### Evaluate ARIMA PLUS Model on Test set"
   ]
  },
  {
   "cell_type": "code",
   "execution_count": null,
   "id": "204f7ada-103b-4a59-8609-56dc4bb1cfe3",
   "metadata": {},
   "outputs": [],
   "source": [
    "SELECT\n",
    "  *\n",
    "FROM\n",
    "  ML.EVALUATE(MODEL `web_traffic_dataset.web_traffic_arima_model`,\n",
    "    (\n",
    "    SELECT\n",
    "      CAST(date AS TIMESTAMP) date,\n",
    "      traffic\n",
    "    FROM\n",
    "      `web_traffic_dataset.web_traffic_test_tb`))"
   ]
  },
  {
   "cell_type": "markdown",
   "id": "f1ba7edc-1bdb-486d-9bdd-786c292a8011",
   "metadata": {},
   "source": [
    "Results:\n",
    "* MAE: 11.17\n",
    "* MSE: 308.23\n",
    "* RMSE: 17.55"
   ]
  },
  {
   "cell_type": "markdown",
   "id": "12786716-9096-4aac-906d-b22a492027cf",
   "metadata": {},
   "source": [
    "### Forecast last month of data to be plotted with Looker Studio"
   ]
  },
  {
   "cell_type": "code",
   "execution_count": null,
   "id": "8c22ca2f-ccba-47b1-937c-a861c7b274c1",
   "metadata": {},
   "outputs": [],
   "source": [
    "WITH forecast_traffic_tb AS (\n",
    "      SELECT\n",
    "          DATE(forecast_timestamp) AS day,\n",
    "\t\t\t\t  CAST(forecast_value AS INT64) AS forecast_traffic, \n",
    "\t\t\t\t\tCAST(prediction_interval_lower_bound AS INT64) AS forecast_traffic_lower_bound,\n",
    "\t\t\t\t  CAST(prediction_interval_upper_bound AS INT64) AS forecast_traffic_upper_bound\n",
    "        FROM \n",
    "          ML.FORECAST(MODEL web_traffic_dataset.web_traffic_arima_model, STRUCT(30 AS horizon, 0.9 AS confidence_level)) ),\n",
    "                 \n",
    "    real_traffic_tb AS (\n",
    "        SELECT date, traffic as real_traffic\n",
    "        FROM web_traffic_dataset.web_traffic_training_tb\n",
    "        UNION ALL\n",
    "        SELECT date, traffic as real_traffic\n",
    "        FROM web_traffic_dataset.web_traffic_test_tb\n",
    "        ORDER BY date DESC) \n",
    "SELECT date, real_traffic, forecast_traffic, forecast_traffic_lower_bound, forecast_traffic_upper_bound\n",
    "FROM real_traffic_tb \n",
    "LEFT JOIN forecast_traffic_tb \n",
    "ON real_traffic_tb.date = forecast_traffic_tb.day\n",
    "ORDER BY date DESC;"
   ]
  },
  {
   "cell_type": "markdown",
   "id": "cb899753-57ac-48f6-bfe9-1c448fe4fe7d",
   "metadata": {},
   "source": [
    "![Plot language analysis](../plots_looker/plot_arima_plus_forecast.png)"
   ]
  }
 ],
 "metadata": {
  "kernelspec": {
   "display_name": "Python 3 (ipykernel)",
   "language": "python",
   "name": "python3"
  },
  "language_info": {
   "codemirror_mode": {
    "name": "ipython",
    "version": 3
   },
   "file_extension": ".py",
   "mimetype": "text/x-python",
   "name": "python",
   "nbconvert_exporter": "python",
   "pygments_lexer": "ipython3",
   "version": "3.11.5"
  }
 },
 "nbformat": 4,
 "nbformat_minor": 5
}
